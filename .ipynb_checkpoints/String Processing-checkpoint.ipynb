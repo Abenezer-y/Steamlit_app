{
 "cells": [
  {
   "cell_type": "code",
   "execution_count": 1,
   "id": "56985b5b",
   "metadata": {},
   "outputs": [],
   "source": [
    "import pandas as pd"
   ]
  },
  {
   "cell_type": "code",
   "execution_count": 2,
   "id": "86cb9d5c",
   "metadata": {},
   "outputs": [],
   "source": [
    "data = pd.read_excel(\"data.xlsx\")"
   ]
  },
  {
   "cell_type": "code",
   "execution_count": 8,
   "id": "99de6dc7",
   "metadata": {},
   "outputs": [
    {
     "name": "stdout",
     "output_type": "stream",
     "text": [
      "Saba Getenet - Beza (በዛ) [NEW! Ethiopian Music Video 2017]\n"
     ]
    }
   ],
   "source": [
    "titles = data['Title'].values\n",
    "print(titles[0])"
   ]
  },
  {
   "cell_type": "code",
   "execution_count": null,
   "id": "38b6729b",
   "metadata": {},
   "outputs": [],
   "source": [
    "for title in titles[:150]:\n",
    "    title_list = title.split(\" - \")\n",
    "    print(title_list)"
   ]
  }
 ],
 "metadata": {
  "kernelspec": {
   "display_name": "Python 3",
   "language": "python",
   "name": "python3"
  },
  "language_info": {
   "codemirror_mode": {
    "name": "ipython",
    "version": 3
   },
   "file_extension": ".py",
   "mimetype": "text/x-python",
   "name": "python",
   "nbconvert_exporter": "python",
   "pygments_lexer": "ipython3",
   "version": "3.8.8"
  }
 },
 "nbformat": 4,
 "nbformat_minor": 5
}
